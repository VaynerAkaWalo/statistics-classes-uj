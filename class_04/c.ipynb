{
 "cells": [
  {
   "metadata": {},
   "cell_type": "markdown",
   "source": [
    "### Sprawdzić prawo Little'a\n",
    "\n",
    "E(x) = lambdaA * E(R)\n",
    "\n",
    "gdzie\n",
    "- E(x) - Średnia liczba zadań w systemie\n",
    "- E(R) - Średni czas spędzony w systemie\n",
    "- lambdaA - tempo przybywania zadań"
   ],
   "id": "a2bc5f5394add790"
  },
  {
   "cell_type": "code",
   "id": "initial_id",
   "metadata": {
    "collapsed": true,
    "ExecuteTime": {
     "end_time": "2025-01-11T08:33:09.561575Z",
     "start_time": "2025-01-11T08:33:09.479212Z"
    }
   },
   "source": "import numpy as np",
   "outputs": [],
   "execution_count": 2
  },
  {
   "metadata": {
    "ExecuteTime": {
     "end_time": "2025-01-11T08:33:09.569298Z",
     "start_time": "2025-01-11T08:33:09.566931Z"
    }
   },
   "cell_type": "code",
   "source": [
    "lambdaA = 1/20\n",
    "lambdaS_values = [1/15, 1/100, 1/5]"
   ],
   "id": "5fb6cb4db85b9c0f",
   "outputs": [],
   "execution_count": 3
  },
  {
   "metadata": {
    "ExecuteTime": {
     "end_time": "2025-01-11T08:33:09.578304Z",
     "start_time": "2025-01-11T08:33:09.576002Z"
    }
   },
   "cell_type": "code",
   "source": [
    "def generate_time(l):\n",
    "    return -np.log(1 - np.random.uniform(0, 1)) / l"
   ],
   "id": "a46c8e49c29f7b",
   "outputs": [],
   "execution_count": 4
  },
  {
   "metadata": {
    "ExecuteTime": {
     "end_time": "2025-01-11T08:33:09.590107Z",
     "start_time": "2025-01-11T08:33:09.585392Z"
    }
   },
   "cell_type": "code",
   "source": [
    "def simulate_process(limit, l_s):\n",
    "    time = 0\n",
    "    queue = []\n",
    "    completed_tasks = 0\n",
    "    total_task_time_in_system = 0\n",
    "    report_tasks_in_queue = 0\n",
    "    report_count = 0\n",
    "\n",
    "    task_arrival_time = generate_time(lambdaA)\n",
    "    task_dequeue_time = task_arrival_time\n",
    "    task_completion_time = task_dequeue_time + 1 # fake value\n",
    "    while time <= limit:\n",
    "        if time == task_arrival_time:\n",
    "            queue.append(time)\n",
    "            task_arrival_time += generate_time(lambdaA)\n",
    "\n",
    "        if time == task_completion_time:\n",
    "            completed_tasks += 1\n",
    "\n",
    "        if time == task_dequeue_time:\n",
    "            arrival_time = queue.pop(0)\n",
    "            task_completion_time = time + generate_time(l_s)\n",
    "            total_task_time_in_system += task_completion_time - arrival_time\n",
    "\n",
    "            if len(queue) > 0:\n",
    "                task_dequeue_time = task_completion_time\n",
    "            else:\n",
    "                task_dequeue_time = max(task_completion_time, task_arrival_time)\n",
    "\n",
    "        report_tasks_in_queue += len(queue)\n",
    "        report_count += 1\n",
    "        time = min(task_arrival_time, task_dequeue_time, task_completion_time) if time != task_completion_time else min(task_arrival_time, task_dequeue_time)\n",
    "\n",
    "    return report_tasks_in_queue / report_count, total_task_time_in_system / completed_tasks"
   ],
   "id": "35168fa47bf3ae53",
   "outputs": [],
   "execution_count": 5
  },
  {
   "metadata": {
    "ExecuteTime": {
     "end_time": "2025-01-11T08:33:15.436274Z",
     "start_time": "2025-01-11T08:33:09.596500Z"
    }
   },
   "cell_type": "code",
   "source": [
    "simulations = 1_000\n",
    "time_limit = 10_000\n",
    "\n",
    "for l_s in lambdaS_values:\n",
    "  report_ER = []\n",
    "  report_EX = []\n",
    "  for _ in range(simulations):\n",
    "    ex, er = simulate_process(time_limit, l_s)\n",
    "    report_EX.append(ex)\n",
    "    report_ER.append(er)\n",
    "\n",
    "  ex = np.mean(report_EX)\n",
    "  er = np.mean(report_ER)\n",
    "\n",
    "  ex_exp = np.abs(ex - (er * lambdaA))\n",
    "\n",
    "  print(f'Dla lambdaS = {l_s}: E(R) = {er}, E(R) * lambdaA = {er * lambdaA}, E(X) = {ex},  delta = {ex_exp - ex} %delta = {np.abs(ex - ex_exp) / ex}\\n')"
   ],
   "id": "1104f7543f7d84d6",
   "outputs": [
    {
     "name": "stdout",
     "output_type": "stream",
     "text": [
      "Dla lambdaS = 0.06666666666666667: E(R) = 59.11531793177099, E(R) * lambdaA = 2.9557658965885496, E(X) = 2.576300886909984,  delta = -2.1968358772314183 %delta = 0.8527093587528528\n",
      "\n",
      "Dla lambdaS = 0.01: E(R) = 4087.0528488332725, E(R) * lambdaA = 204.35264244166365, E(X) = 199.61935529078974,  delta = -194.88606813991584 %delta = 0.9762884358384044\n",
      "\n",
      "Dla lambdaS = 0.2: E(R) = 6.663527675883941, E(R) * lambdaA = 0.33317638379419706, E(X) = 0.20846193012677708,  delta = -0.0837474764593571 %delta = 0.4017399071783787\n",
      "\n"
     ]
    }
   ],
   "execution_count": 6
  }
 ],
 "metadata": {
  "kernelspec": {
   "display_name": "Python 3",
   "language": "python",
   "name": "python3"
  },
  "language_info": {
   "codemirror_mode": {
    "name": "ipython",
    "version": 2
   },
   "file_extension": ".py",
   "mimetype": "text/x-python",
   "name": "python",
   "nbconvert_exporter": "python",
   "pygments_lexer": "ipython2",
   "version": "2.7.6"
  }
 },
 "nbformat": 4,
 "nbformat_minor": 5
}
