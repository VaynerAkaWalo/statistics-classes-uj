{
 "cells": [
  {
   "metadata": {},
   "cell_type": "markdown",
   "source": [
    "### Sprawdzić prawo Little'a\n",
    "\n",
    "E(x) = lambdaA * E(R)\n",
    "\n",
    "gdzie\n",
    "- E(x) - Średnia liczba zadań w systemie\n",
    "- E(R) - Średni czas spędzony w systemie\n",
    "- lambdaA - tempo przybywania zadań"
   ],
   "id": "a2bc5f5394add790"
  },
  {
   "cell_type": "code",
   "id": "initial_id",
   "metadata": {
    "collapsed": true,
    "ExecuteTime": {
     "end_time": "2025-01-10T23:11:05.260934Z",
     "start_time": "2025-01-10T23:11:05.258375Z"
    }
   },
   "source": "import numpy as np",
   "outputs": [],
   "execution_count": 31
  },
  {
   "metadata": {
    "ExecuteTime": {
     "end_time": "2025-01-10T23:11:05.276028Z",
     "start_time": "2025-01-10T23:11:05.273663Z"
    }
   },
   "cell_type": "code",
   "source": [
    "lambdaA = 1/20\n",
    "lambdaS_values = [1/15, 1/100, 1/5]"
   ],
   "id": "5fb6cb4db85b9c0f",
   "outputs": [],
   "execution_count": 32
  },
  {
   "metadata": {
    "ExecuteTime": {
     "end_time": "2025-01-10T23:11:05.284340Z",
     "start_time": "2025-01-10T23:11:05.282422Z"
    }
   },
   "cell_type": "code",
   "source": [
    "def generate_time(l):\n",
    "    return -np.log(1 - np.random.uniform(0, 1)) / l"
   ],
   "id": "a46c8e49c29f7b",
   "outputs": [],
   "execution_count": 33
  },
  {
   "metadata": {
    "ExecuteTime": {
     "end_time": "2025-01-10T23:11:05.299981Z",
     "start_time": "2025-01-10T23:11:05.296220Z"
    }
   },
   "cell_type": "code",
   "source": [
    "def simulate_process(limit, l_s):\n",
    "    time = 0\n",
    "    queue = []\n",
    "    completed_tasks = 0\n",
    "    total_task_time_in_system = 0\n",
    "    report_tasks_in_queue = 0\n",
    "    report_count = 0\n",
    "\n",
    "    task_arrival_time = generate_time(lambdaA)\n",
    "    task_dequeue_time = task_arrival_time\n",
    "    task_completion_time = task_dequeue_time + 1 # fake value\n",
    "    while time <= limit:\n",
    "        if time == task_arrival_time:\n",
    "            queue.append(time)\n",
    "            task_arrival_time += generate_time(lambdaA)\n",
    "\n",
    "        if time == task_completion_time:\n",
    "            completed_tasks += 1\n",
    "\n",
    "        if time == task_dequeue_time:\n",
    "            arrival_time = queue.pop(0)\n",
    "            task_completion_time = time + generate_time(l_s)\n",
    "            total_task_time_in_system += task_completion_time - arrival_time\n",
    "\n",
    "            if len(queue) > 0:\n",
    "                task_dequeue_time = task_completion_time\n",
    "            else:\n",
    "                task_dequeue_time = max(task_completion_time, task_arrival_time)\n",
    "\n",
    "        report_tasks_in_queue += len(queue)\n",
    "        report_count += 1\n",
    "        time = min(task_arrival_time, task_dequeue_time, task_completion_time) if time != task_completion_time else min(task_arrival_time, task_dequeue_time)\n",
    "\n",
    "    return report_tasks_in_queue / report_count, total_task_time_in_system / completed_tasks"
   ],
   "id": "35168fa47bf3ae53",
   "outputs": [],
   "execution_count": 34
  },
  {
   "metadata": {
    "ExecuteTime": {
     "end_time": "2025-01-10T23:11:11.205044Z",
     "start_time": "2025-01-10T23:11:05.313146Z"
    }
   },
   "cell_type": "code",
   "source": [
    "simulations = 1_000\n",
    "time_limit = 10_000\n",
    "\n",
    "for l_s in lambdaS_values:\n",
    "  report_ER = []\n",
    "  report_EX = []\n",
    "  for _ in range(simulations):\n",
    "    ex, er = simulate_process(time_limit, l_s)\n",
    "    report_EX.append(ex)\n",
    "    report_ER.append(er)\n",
    "\n",
    "  ex = np.mean(report_EX)\n",
    "  er = np.mean(report_ER)\n",
    "\n",
    "  print(f'Dla lambdaS = {l_s}: E(R) = {er}, E(R) * lambdaA = {er * lambdaA}, E(X) = {ex},  delta = {np.abs(ex - (er * lambdaA))}\\n')"
   ],
   "id": "1104f7543f7d84d6",
   "outputs": [
    {
     "name": "stdout",
     "output_type": "stream",
     "text": [
      "Dla lambdaS = 0.06666666666666667: E(R) = 57.85397481239587, E(R) * lambdaA = 2.8926987406197937, E(X) = 2.504325010210745,  delta = 0.3883737304090489\n",
      "\n",
      "Dla lambdaS = 0.01: E(R) = 4083.688029418193, E(R) * lambdaA = 204.18440147090965, E(X) = 199.05782719178143,  delta = 5.126574279128221\n",
      "\n",
      "Dla lambdaS = 0.2: E(R) = 6.690127480025859, E(R) * lambdaA = 0.334506374001293, E(X) = 0.20724889742993474,  delta = 0.12725747657135827\n",
      "\n"
     ]
    }
   ],
   "execution_count": 35
  }
 ],
 "metadata": {
  "kernelspec": {
   "display_name": "Python 3",
   "language": "python",
   "name": "python3"
  },
  "language_info": {
   "codemirror_mode": {
    "name": "ipython",
    "version": 2
   },
   "file_extension": ".py",
   "mimetype": "text/x-python",
   "name": "python",
   "nbconvert_exporter": "python",
   "pygments_lexer": "ipython2",
   "version": "2.7.6"
  }
 },
 "nbformat": 4,
 "nbformat_minor": 5
}
